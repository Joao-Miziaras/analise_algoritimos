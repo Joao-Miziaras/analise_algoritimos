{
  "cells": [
    {
      "cell_type": "code",
      "execution_count": 16,
      "metadata": {
        "id": "BT7JyQ-XQSnw"
      },
      "outputs": [
        {
          "name": "stdout",
          "output_type": "stream",
          "text": [
            "Sum  0\n",
            "Carry 1\n"
          ]
        }
      ],
      "source": [
        "# Função para imprimir soma e carregar - MEIO SOMADOR\n",
        "def getResult(A, B):\n",
        "    \n",
        "    # Cálculo da soma\n",
        "    Sum = A ^ B\n",
        "    \n",
        "    # Calculado o valor do carry\n",
        "    Carry = A & B\n",
        "    \n",
        "    # imprimindo os calores\n",
        "    print(\"Sum \", Sum)\n",
        "    print(\"Carry\", Carry)\n",
        "\n",
        "\n",
        "\n",
        "# Código binário\n",
        "A = 1\n",
        "B = 1\n",
        "\n",
        "# passando duas entradas de halfadder como argumentos para obter a função de resultado\n",
        "getResult(A, B)"
      ]
    },
    {
      "cell_type": "code",
      "execution_count": 18,
      "metadata": {},
      "outputs": [],
      "source": [
        "def transformar_binario(n):\n",
        "    return int(bin(n).replace(\"0b\", \"\"))"
      ]
    },
    {
      "cell_type": "code",
      "execution_count": 22,
      "metadata": {},
      "outputs": [
        {
          "name": "stdout",
          "output_type": "stream",
          "text": [
            "1000\n",
            "1001\n",
            "Sum  1\n",
            "Carry 1000\n"
          ]
        }
      ],
      "source": [
        "A = transformar_binario(8)\n",
        "B = transformar_binario(9)\n",
        "\n",
        "print(A)\n",
        "print(B)\n",
        "getResult(A, B)"
      ]
    },
    {
      "cell_type": "code",
      "execution_count": 24,
      "metadata": {},
      "outputs": [
        {
          "name": "stdout",
          "output_type": "stream",
          "text": [
            "101\n",
            "1101\n",
            "Sum  1064\n",
            "Carry 69\n"
          ]
        }
      ],
      "source": [
        "A = transformar_binario(5)\n",
        "B = transformar_binario(13)\n",
        "\n",
        "print(A)\n",
        "print(B)\n",
        "getResult(A, B)"
      ]
    },
    {
      "cell_type": "code",
      "execution_count": 25,
      "metadata": {},
      "outputs": [
        {
          "name": "stdout",
          "output_type": "stream",
          "text": [
            "111\n",
            "111\n",
            "Sum  0\n",
            "Carry 111\n"
          ]
        }
      ],
      "source": [
        "A = transformar_binario(7)\n",
        "B = transformar_binario(7)\n",
        "\n",
        "print(A)\n",
        "print(B)\n",
        "getResult(A, B)"
      ]
    },
    {
      "cell_type": "code",
      "execution_count": 23,
      "metadata": {},
      "outputs": [
        {
          "name": "stdout",
          "output_type": "stream",
          "text": [
            "101\n",
            "101\n",
            "Sum  0\n",
            "Carry 101\n"
          ]
        }
      ],
      "source": [
        "A = transformar_binario(5)\n",
        "B = transformar_binario(5)\n",
        "\n",
        "print(A)\n",
        "print(B)\n",
        "getResult(A, B)"
      ]
    }
  ],
  "metadata": {
    "colab": {
      "private_outputs": true,
      "provenance": []
    },
    "kernelspec": {
      "display_name": "Python 3",
      "name": "python3"
    },
    "language_info": {
      "codemirror_mode": {
        "name": "ipython",
        "version": 3
      },
      "file_extension": ".py",
      "mimetype": "text/x-python",
      "name": "python",
      "nbconvert_exporter": "python",
      "pygments_lexer": "ipython3",
      "version": "3.12.2"
    }
  },
  "nbformat": 4,
  "nbformat_minor": 0
}
