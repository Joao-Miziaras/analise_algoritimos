{
  "cells": [
    {
      "cell_type": "code",
      "execution_count": 26,
      "metadata": {
        "id": "gYpB3Wt1nw3p"
      },
      "outputs": [
        {
          "name": "stdout",
          "output_type": "stream",
          "text": [
            "For Loop Sum: 0.10033369995653629\n",
            "  4           0 RESUME                   0\n",
            "\n",
            "  5           2 LOAD_CONST               1 (0)\n",
            "              4 STORE_FAST               0 (s)\n",
            "\n",
            "  6           6 LOAD_GLOBAL              1 (NULL + range)\n",
            "             16 LOAD_CONST               2 (1000000)\n",
            "             18 CALL                     1\n",
            "             26 GET_ITER\n",
            "        >>   28 FOR_ITER                 7 (to 46)\n",
            "             32 STORE_FAST               1 (i)\n",
            "\n",
            "  7          34 LOAD_FAST                0 (s)\n",
            "             36 LOAD_FAST                1 (i)\n",
            "             38 BINARY_OP               13 (+=)\n",
            "             42 STORE_FAST               0 (s)\n",
            "             44 JUMP_BACKWARD            9 (to 28)\n",
            "\n",
            "  6     >>   46 END_FOR\n",
            "\n",
            "  8          48 LOAD_FAST                0 (s)\n",
            "             50 RETURN_VALUE\n",
            " 11           0 RESUME                   0\n",
            "\n",
            " 12           2 LOAD_GLOBAL              1 (NULL + sum)\n",
            "             12 LOAD_GLOBAL              3 (NULL + range)\n",
            "             22 LOAD_CONST               1 (1000000)\n",
            "             24 CALL                     1\n",
            "             32 CALL                     1\n",
            "             40 RETURN_VALUE\n",
            "Function Sum: 0.08845159993506968\n"
          ]
        }
      ],
      "source": [
        "import dis\n",
        "import timeit\n",
        "\n",
        "def sum1():\n",
        "    s = 0\n",
        "    for i in range(1000000):\n",
        "        s += i\n",
        "    return s\n",
        "print('For Loop Sum:', timeit.timeit(sum1, number=2))\n",
        "dis.dis(sum1)\n",
        "def sum2():\n",
        "    return sum(range(1000000))\n",
        "dis.dis(sum2)\n",
        "print('Function Sum:', timeit.timeit(sum2, number=2))\n"
      ]
    },
    {
      "cell_type": "code",
      "execution_count": 2,
      "metadata": {
        "id": "Y_cgZ9AztCCY"
      },
      "outputs": [
        {
          "name": "stdout",
          "output_type": "stream",
          "text": [
            "For Loop Sum: 0.5032866999972612\n",
            "Function Sum: 0.4606718000723049\n",
            "Fast Sum: 2.4999957531690598e-05\n"
          ]
        }
      ],
      "source": [
        "import timeit\n",
        "\n",
        "def sum1():\n",
        "    s = 0\n",
        "    for i in range(1000000):\n",
        "        s += i\n",
        "    #print s    \n",
        "    return s\n",
        "\n",
        "def sum2():\n",
        "\n",
        "    return sum(range(1000000))\n",
        "\n",
        "def sum3():\n",
        "    s = range(1000000)\n",
        "    s = ((s[1]+s[-1])/2) * (len(s)-1)\n",
        "    #print(s)\n",
        "    return s\n",
        "\n",
        "print ('For Loop Sum:', timeit.timeit(sum1, number=10))\n",
        "print ('Function Sum:', timeit.timeit(sum2, number=10))\n",
        "print ('Fast Sum:', timeit.timeit(sum3, number=10))"
      ]
    },
    {
      "cell_type": "code",
      "execution_count": 16,
      "metadata": {
        "id": "BT7JyQ-XQSnw"
      },
      "outputs": [
        {
          "name": "stdout",
          "output_type": "stream",
          "text": [
            "Sum  0\n",
            "Carry 1\n"
          ]
        }
      ],
      "source": [
        "# Função para imprimir soma e carregar - MEIO SOMADOR\n",
        "def getResult(A, B):\n",
        "    \n",
        "    # Cálculo da soma\n",
        "    Sum = A ^ B\n",
        "    \n",
        "    # Calculado o valor do carry\n",
        "    Carry = A & B\n",
        "    \n",
        "    # imprimindo os calores\n",
        "    print(\"Sum \", Sum)\n",
        "    print(\"Carry\", Carry)\n",
        "\n",
        "\n",
        "\n",
        "# Código binário\n",
        "A = 1\n",
        "B = 1\n",
        "\n",
        "# passando duas entradas de halfadder como argumentos para obter a função de resultado\n",
        "getResult(A, B)"
      ]
    },
    {
      "cell_type": "code",
      "execution_count": 18,
      "metadata": {},
      "outputs": [],
      "source": [
        "def transformar_binario(n):\n",
        "    return int(bin(n).replace(\"0b\", \"\"))"
      ]
    },
    {
      "cell_type": "code",
      "execution_count": 22,
      "metadata": {},
      "outputs": [
        {
          "name": "stdout",
          "output_type": "stream",
          "text": [
            "1000\n",
            "1001\n",
            "Sum  1\n",
            "Carry 1000\n"
          ]
        }
      ],
      "source": [
        "A = transformar_binario(8)\n",
        "B = transformar_binario(9)\n",
        "\n",
        "print(A)\n",
        "print(B)\n",
        "getResult(A, B)"
      ]
    },
    {
      "cell_type": "code",
      "execution_count": 24,
      "metadata": {},
      "outputs": [
        {
          "name": "stdout",
          "output_type": "stream",
          "text": [
            "101\n",
            "1101\n",
            "Sum  1064\n",
            "Carry 69\n"
          ]
        }
      ],
      "source": [
        "A = transformar_binario(5)\n",
        "B = transformar_binario(13)\n",
        "\n",
        "print(A)\n",
        "print(B)\n",
        "getResult(A, B)"
      ]
    },
    {
      "cell_type": "code",
      "execution_count": 25,
      "metadata": {},
      "outputs": [
        {
          "name": "stdout",
          "output_type": "stream",
          "text": [
            "111\n",
            "111\n",
            "Sum  0\n",
            "Carry 111\n"
          ]
        }
      ],
      "source": [
        "A = transformar_binario(7)\n",
        "B = transformar_binario(7)\n",
        "\n",
        "print(A)\n",
        "print(B)\n",
        "getResult(A, B)"
      ]
    },
    {
      "cell_type": "code",
      "execution_count": 23,
      "metadata": {},
      "outputs": [
        {
          "name": "stdout",
          "output_type": "stream",
          "text": [
            "101\n",
            "101\n",
            "Sum  0\n",
            "Carry 101\n"
          ]
        }
      ],
      "source": [
        "A = transformar_binario(5)\n",
        "B = transformar_binario(5)\n",
        "\n",
        "print(A)\n",
        "print(B)\n",
        "getResult(A, B)"
      ]
    }
  ],
  "metadata": {
    "colab": {
      "private_outputs": true,
      "provenance": []
    },
    "kernelspec": {
      "display_name": "Python 3",
      "name": "python3"
    },
    "language_info": {
      "codemirror_mode": {
        "name": "ipython",
        "version": 3
      },
      "file_extension": ".py",
      "mimetype": "text/x-python",
      "name": "python",
      "nbconvert_exporter": "python",
      "pygments_lexer": "ipython3",
      "version": "3.12.2"
    }
  },
  "nbformat": 4,
  "nbformat_minor": 0
}
