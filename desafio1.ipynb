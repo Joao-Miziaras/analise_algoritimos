{
 "cells": [
  {
   "cell_type": "code",
   "execution_count": 2,
   "metadata": {},
   "outputs": [
    {
     "name": "stdout",
     "output_type": "stream",
     "text": [
      "For Loop Sum: 0.3406457999954\n",
      "  5           0 LOAD_CONST               1 (0)\n",
      "              2 STORE_FAST               0 (s)\n",
      "\n",
      "  6           4 LOAD_GLOBAL              0 (range)\n",
      "              6 LOAD_CONST               2 (1000000)\n",
      "              8 CALL_FUNCTION            1\n",
      "             10 GET_ITER\n",
      "        >>   12 FOR_ITER                 6 (to 26)\n",
      "             14 STORE_FAST               1 (i)\n",
      "\n",
      "  7          16 LOAD_FAST                0 (s)\n",
      "             18 LOAD_FAST                1 (i)\n",
      "             20 INPLACE_ADD\n",
      "             22 STORE_FAST               0 (s)\n",
      "             24 JUMP_ABSOLUTE            6 (to 12)\n",
      "\n",
      "  8     >>   26 LOAD_FAST                0 (s)\n",
      "             28 RETURN_VALUE\n",
      " 12           0 LOAD_GLOBAL              0 (sum)\n",
      "              2 LOAD_GLOBAL              1 (range)\n",
      "              4 LOAD_CONST               1 (1000000)\n",
      "              6 CALL_FUNCTION            1\n",
      "              8 CALL_FUNCTION            1\n",
      "             10 RETURN_VALUE\n",
      "Function Sum: 0.0960309999936726\n"
     ]
    }
   ],
   "source": [
    "import dis\n",
    "import timeit\n",
    "\n",
    "def sum1():\n",
    "    s = 0\n",
    "    for i in range(1000000):\n",
    "        s += i\n",
    "    return s\n",
    "print('For Loop Sum:', timeit.timeit(sum1, number=2))\n",
    "dis.dis(sum1)\n",
    "def sum2():\n",
    "    return sum(range(1000000))\n",
    "dis.dis(sum2)\n",
    "print('Function Sum:', timeit.timeit(sum2, number=2))"
   ]
  },
  {
   "cell_type": "code",
   "execution_count": 3,
   "metadata": {},
   "outputs": [
    {
     "name": "stdout",
     "output_type": "stream",
     "text": [
      "For Loop Sum: 1.149215000012191\n",
      "Function Sum: 0.4646865999966394\n",
      "Fast Sum: 2.8399983420968056e-05\n"
     ]
    }
   ],
   "source": [
    "import timeit\n",
    "\n",
    "def sum1():\n",
    "    s = 0\n",
    "    for i in range(1000000):\n",
    "        s += i\n",
    "    #print s    \n",
    "    return s\n",
    "\n",
    "def sum2():\n",
    "\n",
    "    return sum(range(1000000))\n",
    "\n",
    "def sum3():\n",
    "    s = range(1000000)\n",
    "    s = ((s[1]+s[-1])/2) * (len(s)-1)\n",
    "    #print(s)\n",
    "    return s\n",
    "\n",
    "print ('For Loop Sum:', timeit.timeit(sum1, number=10))\n",
    "print ('Function Sum:', timeit.timeit(sum2, number=10))\n",
    "print ('Fast Sum:', timeit.timeit(sum3, number=10))"
   ]
  },
  {
   "cell_type": "code",
   "execution_count": 6,
   "metadata": {},
   "outputs": [
    {
     "name": "stdout",
     "output_type": "stream",
     "text": [
      "Sum 0\n",
      "Carry 1\n"
     ]
    }
   ],
   "source": [
    "# Função para imprimir soma e carregar - MEIO SOMADOR\n",
    "def getResult(A, B):\n",
    "  \n",
    "  # Cálculo da soma,\n",
    "  Sum = A ^ B\n",
    "  \n",
    "  # Calculado o valor do carry,\n",
    "  Carry = A & B\n",
    "  \n",
    "  # imprimindo os calores,\n",
    "  print(\"Sum\", Sum)\n",
    "  print(\"Carry\", Carry)\n",
    "\n",
    "# Código binário,\n",
    "A = 1\n",
    "B = 1\n",
    "\n",
    "# passando duas entradas de halfadder como argumentos para obter a função de resultado,\n",
    "getResult(A, B)"
   ]
  }
 ],
 "metadata": {
  "kernelspec": {
   "display_name": "Python 3",
   "language": "python",
   "name": "python3"
  },
  "language_info": {
   "codemirror_mode": {
    "name": "ipython",
    "version": 3
   },
   "file_extension": ".py",
   "mimetype": "text/x-python",
   "name": "python",
   "nbconvert_exporter": "python",
   "pygments_lexer": "ipython3",
   "version": "3.10.1"
  }
 },
 "nbformat": 4,
 "nbformat_minor": 2
}
